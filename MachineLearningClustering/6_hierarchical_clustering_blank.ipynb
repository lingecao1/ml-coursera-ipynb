{
 "cells": [
  {
   "cell_type": "markdown",
   "metadata": {},
   "source": [
    "# Hierarchical Clustering"
   ]
  },
  {
   "cell_type": "markdown",
   "metadata": {},
   "source": [
    "**Hierarchical clustering** refers to a class of clustering methods that seek to build a **hierarchy** of clusters, in which some clusters contain others. In this assignment, we will explore a top-down approach, recursively bipartitioning the data using k-means."
   ]
  },
  {
   "cell_type": "markdown",
   "metadata": {},
   "source": [
    "**Note to Amazon EC2 users**: To conserve memory, make sure to stop all the other notebooks before running this notebook."
   ]
  },
  {
   "cell_type": "markdown",
   "metadata": {},
   "source": [
    "## Import packages"
   ]
  },
  {
   "cell_type": "markdown",
   "metadata": {},
   "source": [
    "The following code block will check if you have the correct version of GraphLab Create. Any version later than 1.8.5 will do. To upgrade, read [this page](https://turi.com/download/upgrade-graphlab-create.html)."
   ]
  },
  {
   "cell_type": "code",
   "execution_count": 1,
   "metadata": {
    "collapsed": false
   },
   "outputs": [],
   "source": [
    "import graphlab\n",
    "import matplotlib.pyplot as plt\n",
    "import numpy as np\n",
    "import sys\n",
    "import os\n",
    "import time\n",
    "from scipy.sparse import csr_matrix\n",
    "from sklearn.cluster import KMeans\n",
    "from sklearn.metrics import pairwise_distances\n",
    "%matplotlib inline\n",
    "\n",
    "'''Check GraphLab Create version'''\n",
    "from distutils.version import StrictVersion\n",
    "assert (StrictVersion(graphlab.version) >= StrictVersion('1.8.5')), 'GraphLab Create must be version 1.8.5 or later.'"
   ]
  },
  {
   "cell_type": "markdown",
   "metadata": {},
   "source": [
    "## Load the Wikipedia dataset"
   ]
  },
  {
   "cell_type": "code",
   "execution_count": 2,
   "metadata": {
    "collapsed": false
   },
   "outputs": [
    {
     "name": "stderr",
     "output_type": "stream",
     "text": [
      "[INFO] graphlab.cython.cy_server: GraphLab Create v2.1 started. Logging: C:\\Users\\lucy\\AppData\\Local\\Temp\\graphlab_server_1496926883.log.0\n"
     ]
    },
    {
     "name": "stdout",
     "output_type": "stream",
     "text": [
      "This non-commercial license of GraphLab Create for academic use is assigned to 52151214001@stu.ecnu.edu.cn and will expire on January 24, 2018.\n"
     ]
    }
   ],
   "source": [
    "wiki = graphlab.SFrame('../data/people_wiki.gl/')"
   ]
  },
  {
   "cell_type": "markdown",
   "metadata": {},
   "source": [
    "As we did in previous assignments, let's extract the TF-IDF features:"
   ]
  },
  {
   "cell_type": "code",
   "execution_count": 3,
   "metadata": {
    "collapsed": true
   },
   "outputs": [],
   "source": [
    "wiki['tf_idf'] = graphlab.text_analytics.tf_idf(wiki['text'])"
   ]
  },
  {
   "cell_type": "markdown",
   "metadata": {},
   "source": [
    "To run k-means on this dataset, we should convert the data matrix into a sparse matrix."
   ]
  },
  {
   "cell_type": "code",
   "execution_count": 4,
   "metadata": {
    "collapsed": true
   },
   "outputs": [],
   "source": [
    "from em_utilities import sframe_to_scipy # converter\n",
    "\n",
    "# This will take about a minute or two.\n",
    "tf_idf, map_index_to_word = sframe_to_scipy(wiki, 'tf_idf')"
   ]
  },
  {
   "cell_type": "markdown",
   "metadata": {},
   "source": [
    "To be consistent with the k-means assignment, let's normalize all vectors to have unit norm."
   ]
  },
  {
   "cell_type": "code",
   "execution_count": 5,
   "metadata": {
    "collapsed": true
   },
   "outputs": [],
   "source": [
    "from sklearn.preprocessing import normalize\n",
    "tf_idf = normalize(tf_idf)"
   ]
  },
  {
   "cell_type": "code",
   "execution_count": 6,
   "metadata": {
    "collapsed": false
   },
   "outputs": [
    {
     "name": "stdout",
     "output_type": "stream",
     "text": [
      "+---------+------------------------+-------+\n",
      "| feature |        category        | index |\n",
      "+---------+------------------------+-------+\n",
      "| feature |    bioarchaeologist    |   0   |\n",
      "| feature |      leaguehockey      |   1   |\n",
      "| feature |      electionruss      |   2   |\n",
      "| feature |        teramoto        |   3   |\n",
      "| feature | trumpeterpercussionist |   4   |\n",
      "| feature |        spoofax         |   5   |\n",
      "| feature |      mendelssohni      |   6   |\n",
      "| feature |       crosswise        |   7   |\n",
      "| feature |          yec           |   8   |\n",
      "| feature |      asianthemed       |   9   |\n",
      "+---------+------------------------+-------+\n",
      "[547979 rows x 3 columns]\n",
      "Note: Only the head of the SFrame is printed.\n",
      "You can use print_rows(num_rows=m, num_columns=n) to print more rows and columns.\n"
     ]
    }
   ],
   "source": [
    "print map_index_to_word"
   ]
  },
  {
   "cell_type": "markdown",
   "metadata": {},
   "source": [
    "## Bipartition the Wikipedia dataset using k-means"
   ]
  },
  {
   "cell_type": "markdown",
   "metadata": {},
   "source": [
    "Recall our workflow for clustering text data with k-means:\n",
    "\n",
    "1. Load the dataframe containing a dataset, such as the Wikipedia text dataset.\n",
    "2. Extract the data matrix from the dataframe.\n",
    "3. Run k-means on the data matrix with some value of k.\n",
    "4. Visualize the clustering results using the centroids, cluster assignments, and the original dataframe. We keep the original dataframe around because the data matrix does not keep auxiliary information (in the case of the text dataset, the title of each article).\n",
    "\n",
    "Let us modify the workflow to perform bipartitioning:\n",
    "\n",
    "1. Load the dataframe containing a dataset, such as the Wikipedia text dataset.\n",
    "2. Extract the data matrix from the dataframe.\n",
    "3. Run k-means on the data matrix with k=2.\n",
    "4. Divide the data matrix into two parts using the cluster assignments.\n",
    "5. Divide the dataframe into two parts, again using the cluster assignments. This step is necessary to allow for visualization.\n",
    "6. Visualize the bipartition of data.\n",
    "\n",
    "We'd like to be able to repeat Steps 3-6 multiple times to produce a **hierarchy** of clusters such as the following:\n",
    "```\n",
    "                      (root)\n",
    "                         |\n",
    "            +------------+-------------+\n",
    "            |                          |\n",
    "         Cluster                    Cluster\n",
    "     +------+-----+             +------+-----+\n",
    "     |            |             |            |\n",
    "   Cluster     Cluster       Cluster      Cluster\n",
    "```\n",
    "Each **parent cluster** is bipartitioned to produce two **child clusters**. At the very top is the **root cluster**, which consists of the entire dataset.\n",
    "\n",
    "Now we write a wrapper function to bipartition a given cluster using k-means. There are three variables that together comprise the cluster:\n",
    "\n",
    "* `dataframe`: a subset of the original dataframe that correspond to member rows of the cluster\n",
    "* `matrix`: same set of rows, stored in sparse matrix format\n",
    "* `centroid`: the centroid of the cluster (not applicable for the root cluster)\n",
    "\n",
    "Rather than passing around the three variables separately, we package them into a Python dictionary. The wrapper function takes a single dictionary (representing a parent cluster) and returns two dictionaries (representing the child clusters)."
   ]
  },
  {
   "cell_type": "code",
   "execution_count": 7,
   "metadata": {
    "collapsed": false
   },
   "outputs": [],
   "source": [
    "def bipartition(cluster, maxiter=400, num_runs=4, seed=None):\n",
    "    '''cluster: should be a dictionary containing the following keys\n",
    "                * dataframe: original dataframe\n",
    "                * matrix:    same data, in matrix format\n",
    "                * centroid:  centroid for this particular cluster'''\n",
    "    \n",
    "    data_matrix = cluster['matrix']\n",
    "    dataframe   = cluster['dataframe']\n",
    "    \n",
    "    # Run k-means on the data matrix with k=2. We use scikit-learn here to simplify workflow.\n",
    "#     kmeans_model = KMeans(n_clusters=2, max_iter=maxiter, n_init=num_runs, random_state=seed, n_jobs=1)\n",
    "    kmeans_model = KMeans(n_clusters=2, max_iter=maxiter, n_init=num_runs, random_state=seed, n_jobs=-1)\n",
    "\n",
    "    kmeans_model.fit(data_matrix)\n",
    "    centroids, cluster_assignment = kmeans_model.cluster_centers_, kmeans_model.labels_\n",
    "    \n",
    "    # Divide the data matrix into two parts using the cluster assignments.\n",
    "    data_matrix_left_child, data_matrix_right_child = data_matrix[cluster_assignment==0], \\\n",
    "                                                      data_matrix[cluster_assignment==1]\n",
    "    \n",
    "    # Divide the dataframe into two parts, again using the cluster assignments.\n",
    "    cluster_assignment_sa = graphlab.SArray(cluster_assignment) # minor format conversion\n",
    "    dataframe_left_child, dataframe_right_child     = dataframe[cluster_assignment_sa==0], \\\n",
    "                                                      dataframe[cluster_assignment_sa==1]\n",
    "        \n",
    "    \n",
    "    # Package relevant variables for the child clusters\n",
    "    cluster_left_child  = {'matrix': data_matrix_left_child,\n",
    "                           'dataframe': dataframe_left_child,\n",
    "                           'centroid': centroids[0]}\n",
    "    cluster_right_child = {'matrix': data_matrix_right_child,\n",
    "                           'dataframe': dataframe_right_child,\n",
    "                           'centroid': centroids[1]}\n",
    "    \n",
    "    return (cluster_left_child, cluster_right_child)"
   ]
  },
  {
   "cell_type": "markdown",
   "metadata": {},
   "source": [
    "The following cell performs bipartitioning of the Wikipedia dataset. Allow 20-60 seconds to finish.\n",
    "\n",
    "Note. For the purpose of the assignment, we set an explicit seed (`seed=1`) to produce identical outputs for every run. In pratical applications, you might want to use different random seeds for all runs."
   ]
  },
  {
   "cell_type": "code",
   "execution_count": 8,
   "metadata": {
    "collapsed": false
   },
   "outputs": [],
   "source": [
    "wiki_data = {'matrix': tf_idf, 'dataframe': wiki} # no 'centroid' for the root cluster\n",
    "left_child, right_child = bipartition(wiki_data, maxiter=100, num_runs=6, seed=1)"
   ]
  },
  {
   "cell_type": "markdown",
   "metadata": {},
   "source": [
    "Let's examine the contents of one of the two clusters, which we call the `left_child`, referring to the tree visualization above."
   ]
  },
  {
   "cell_type": "code",
   "execution_count": 9,
   "metadata": {
    "collapsed": false
   },
   "outputs": [
    {
     "data": {
      "text/plain": [
       "{'centroid': array([  0.00000000e+00,   8.57526623e-06,   0.00000000e+00, ...,\n",
       "          1.38560691e-04,   6.46049863e-05,   2.26551103e-05]),\n",
       " 'dataframe': Columns:\n",
       " \tURI\tstr\n",
       " \tname\tstr\n",
       " \ttext\tstr\n",
       " \ttf_idf\tdict\n",
       " \n",
       " Rows: Unknown\n",
       " \n",
       " Data:\n",
       " +-------------------------------+-------------------------------+\n",
       " |              URI              |              name             |\n",
       " +-------------------------------+-------------------------------+\n",
       " | <http://dbpedia.org/resour... |         Digby Morrell         |\n",
       " | <http://dbpedia.org/resour... | Paddy Dunne (Gaelic footba... |\n",
       " | <http://dbpedia.org/resour... |         Ceiron Thomas         |\n",
       " | <http://dbpedia.org/resour... |          Adel Sellimi         |\n",
       " | <http://dbpedia.org/resour... |          Vic Stasiuk          |\n",
       " | <http://dbpedia.org/resour... |          Leon Hapgood         |\n",
       " | <http://dbpedia.org/resour... |           Dom Flora           |\n",
       " | <http://dbpedia.org/resour... |           Bob Reece           |\n",
       " | <http://dbpedia.org/resour... | Bob Adams (American football) |\n",
       " | <http://dbpedia.org/resour... |           Marc Logan          |\n",
       " +-------------------------------+-------------------------------+\n",
       " +-------------------------------+-------------------------------+\n",
       " |              text             |             tf_idf            |\n",
       " +-------------------------------+-------------------------------+\n",
       " | digby morrell born 10 octo... | {'since': 1.45537671730804... |\n",
       " | paddy dunne was a gaelic f... | {'all': 3.2862224869824943... |\n",
       " | ceiron thomas born 23 octo... | {'thomas': 19.921640781374... |\n",
       " | adel sellimi arabic was bo... | {'coach': 5.44426411898705... |\n",
       " | victor john stasiuk born m... | {'leagues': 3.892260543300... |\n",
       " | leon duane hapgood born 7 ... | {'albion': 5.6732894101834... |\n",
       " | dominick a dom flora born ... | {'all': 1.6431112434912472... |\n",
       " | robert scott reece born ja... | {'leagues': 3.892260543300... |\n",
       " | robert bruce bob adams bor... | {'coach': 8.16639617848058... |\n",
       " | marc anthony logan born ma... | {'cincinnati': 4.392081929... |\n",
       " +-------------------------------+-------------------------------+\n",
       " [? rows x 4 columns]\n",
       " Note: Only the head of the SFrame is printed. This SFrame is lazily evaluated.\n",
       " You can use sf.materialize() to force materialization.,\n",
       " 'matrix': <11510x547979 sparse matrix of type '<type 'numpy.float64'>'\n",
       " \twith 1885831 stored elements in Compressed Sparse Row format>}"
      ]
     },
     "execution_count": 9,
     "metadata": {},
     "output_type": "execute_result"
    }
   ],
   "source": [
    "left_child"
   ]
  },
  {
   "cell_type": "markdown",
   "metadata": {},
   "source": [
    "And here is the content of the other cluster we named `right_child`."
   ]
  },
  {
   "cell_type": "code",
   "execution_count": 10,
   "metadata": {
    "collapsed": false
   },
   "outputs": [
    {
     "data": {
      "text/plain": [
       "{'centroid': array([  3.00882137e-06,   0.00000000e+00,   2.88868244e-06, ...,\n",
       "          1.10291526e-04,   9.00609890e-05,   2.03703564e-05]),\n",
       " 'dataframe': Columns:\n",
       " \tURI\tstr\n",
       " \tname\tstr\n",
       " \ttext\tstr\n",
       " \ttf_idf\tdict\n",
       " \n",
       " Rows: Unknown\n",
       " \n",
       " Data:\n",
       " +-------------------------------+---------------------+\n",
       " |              URI              |         name        |\n",
       " +-------------------------------+---------------------+\n",
       " | <http://dbpedia.org/resour... |    Alfred J. Lewy   |\n",
       " | <http://dbpedia.org/resour... |    Harpdog Brown    |\n",
       " | <http://dbpedia.org/resour... | Franz Rottensteiner |\n",
       " | <http://dbpedia.org/resour... |        G-Enka       |\n",
       " | <http://dbpedia.org/resour... |    Sam Henderson    |\n",
       " | <http://dbpedia.org/resour... |    Aaron LaCrate    |\n",
       " | <http://dbpedia.org/resour... |   Trevor Ferguson   |\n",
       " | <http://dbpedia.org/resour... |     Grant Nelson    |\n",
       " | <http://dbpedia.org/resour... |     Cathy Caruth    |\n",
       " | <http://dbpedia.org/resour... |     Sophie Crumb    |\n",
       " +-------------------------------+---------------------+\n",
       " +-------------------------------+-------------------------------+\n",
       " |              text             |             tf_idf            |\n",
       " +-------------------------------+-------------------------------+\n",
       " | alfred j lewy aka sandy le... | {'precise': 6.443200606955... |\n",
       " | harpdog brown is a singer ... | {'just': 2.700729968710864... |\n",
       " | franz rottensteiner born i... | {'all': 1.6431112434912472... |\n",
       " | henry krvits born 30 decem... | {'legendary': 4.2808562943... |\n",
       " | sam henderson born october... | {'now': 1.96695239252401, ... |\n",
       " | aaron lacrate is an americ... | {'exclusive': 10.455187230... |\n",
       " | trevor ferguson aka john f... | {'taxi': 6.052021456094502... |\n",
       " | grant nelson born 27 april... | {'houston': 3.935505942157... |\n",
       " | cathy caruth born 1955 is ... | {'phenomenon': 5.750053426... |\n",
       " | sophia violet sophie crumb... | {'zwigoff': 20.58669641733... |\n",
       " +-------------------------------+-------------------------------+\n",
       " [? rows x 4 columns]\n",
       " Note: Only the head of the SFrame is printed. This SFrame is lazily evaluated.\n",
       " You can use sf.materialize() to force materialization.,\n",
       " 'matrix': <47561x547979 sparse matrix of type '<type 'numpy.float64'>'\n",
       " \twith 8493452 stored elements in Compressed Sparse Row format>}"
      ]
     },
     "execution_count": 10,
     "metadata": {},
     "output_type": "execute_result"
    }
   ],
   "source": [
    "right_child"
   ]
  },
  {
   "cell_type": "markdown",
   "metadata": {},
   "source": [
    "## Visualize the bipartition"
   ]
  },
  {
   "cell_type": "markdown",
   "metadata": {},
   "source": [
    "We provide you with a modified version of the visualization function from the k-means assignment. For each cluster, we print the top 5 words with highest TF-IDF weights in the centroid and display excerpts for the 8 nearest neighbors of the centroid."
   ]
  },
  {
   "cell_type": "code",
   "execution_count": 11,
   "metadata": {
    "collapsed": false,
    "scrolled": true
   },
   "outputs": [],
   "source": [
    "def display_single_tf_idf_cluster(cluster, map_index_to_word):\n",
    "    '''map_index_to_word: SFrame specifying the mapping betweeen words and column indices'''\n",
    "    \n",
    "    wiki_subset   = cluster['dataframe']\n",
    "    tf_idf_subset = cluster['matrix']\n",
    "    centroid      = cluster['centroid']\n",
    "    \n",
    "    # Print top 5 words with largest TF-IDF weights in the cluster\n",
    "    idx = centroid.argsort()[::-1]\n",
    "    for i in xrange(5):\n",
    "        print('{0:s}:{1:.3f}'.format(map_index_to_word['category'][idx[i]], centroid[idx[i]])),\n",
    "    print('')\n",
    "    \n",
    "    # Compute distances from the centroid to all data points in the cluster.\n",
    "    distances = pairwise_distances(tf_idf_subset, [centroid], metric='euclidean').flatten()\n",
    "    # compute nearest neighbors of the centroid within the cluster.\n",
    "    nearest_neighbors = distances.argsort()\n",
    "    # For 8 nearest neighbors, print the title as well as first 180 characters of text.\n",
    "    # Wrap the text at 80-character mark.\n",
    "    for i in xrange(8):\n",
    "        text = ' '.join(wiki_subset[nearest_neighbors[i]]['text'].split(None, 25)[0:25])\n",
    "        print('* {0:50s} {1:.5f}\\n  {2:s}\\n  {3:s}'.format(wiki_subset[nearest_neighbors[i]]['name'],\n",
    "              distances[nearest_neighbors[i]], text[:90], text[90:180] if len(text) > 90 else ''))\n",
    "    print('')"
   ]
  },
  {
   "cell_type": "markdown",
   "metadata": {},
   "source": [
    "Let's visualize the two child clusters:"
   ]
  },
  {
   "cell_type": "code",
   "execution_count": 12,
   "metadata": {
    "collapsed": false
   },
   "outputs": [
    {
     "name": "stdout",
     "output_type": "stream",
     "text": [
      "league:0.040 season:0.036 team:0.029 football:0.029 played:0.028 \n",
      "* Todd Williams                                      0.95468\n",
      "  todd michael williams born february 13 1971 in syracuse new york is a former major league \n",
      "  baseball relief pitcher he attended east syracuseminoa high school\n",
      "* Gord Sherven                                       0.95622\n",
      "  gordon r sherven born august 21 1963 in gravelbourg saskatchewan and raised in mankota sas\n",
      "  katchewan is a retired canadian professional ice hockey forward who played\n",
      "* Justin Knoedler                                    0.95639\n",
      "  justin joseph knoedler born july 17 1980 in springfield illinois is a former major league \n",
      "  baseball catcherknoedler was originally drafted by the st louis cardinals\n",
      "* Chris Day                                          0.95648\n",
      "  christopher nicholas chris day born 28 july 1975 is an english professional footballer who\n",
      "   plays as a goalkeeper for stevenageday started his career at tottenham\n",
      "* Tony Smith (footballer, born 1957)                 0.95653\n",
      "  anthony tony smith born 20 february 1957 is a former footballer who played as a central de\n",
      "  fender in the football league in the 1970s and\n",
      "* Ashley Prescott                                    0.95761\n",
      "  ashley prescott born 11 september 1972 is a former australian rules footballer he played w\n",
      "  ith the richmond and fremantle football clubs in the afl between\n",
      "* Leslie Lea                                         0.95802\n",
      "  leslie lea born 5 october 1942 in manchester is an english former professional footballer \n",
      "  he played as a midfielderlea began his professional career with blackpool\n",
      "* Tommy Anderson (footballer)                        0.95818\n",
      "  thomas cowan tommy anderson born 24 september 1934 in haddington is a scottish former prof\n",
      "  essional footballer he played as a forward and was noted for\n",
      "\n"
     ]
    }
   ],
   "source": [
    "display_single_tf_idf_cluster(left_child, map_index_to_word)"
   ]
  },
  {
   "cell_type": "code",
   "execution_count": 13,
   "metadata": {
    "collapsed": false
   },
   "outputs": [
    {
     "name": "stdout",
     "output_type": "stream",
     "text": [
      "she:0.025 her:0.017 music:0.012 he:0.011 university:0.011 \n",
      "* Anita Kunz                                         0.97401\n",
      "  anita e kunz oc born 1956 is a canadianborn artist and illustratorkunz has lived in london\n",
      "   new york and toronto contributing to magazines and working\n",
      "* Janet Jackson                                      0.97472\n",
      "  janet damita jo jackson born may 16 1966 is an american singer songwriter and actress know\n",
      "  n for a series of sonically innovative socially conscious and\n",
      "* Madonna (entertainer)                              0.97475\n",
      "  madonna louise ciccone tkoni born august 16 1958 is an american singer songwriter actress \n",
      "  and businesswoman she achieved popularity by pushing the boundaries of lyrical\n",
      "* %C3%81ine Hyland                                   0.97536\n",
      "  ine hyland ne donlon is emeritus professor of education and former vicepresident of univer\n",
      "  sity college cork ireland she was born in 1942 in athboy co\n",
      "* Jane Fonda                                         0.97621\n",
      "  jane fonda born lady jayne seymour fonda december 21 1937 is an american actress writer po\n",
      "  litical activist former fashion model and fitness guru she is\n",
      "* Christine Robertson                                0.97643\n",
      "  christine mary robertson born 5 october 1948 is an australian politician and former austra\n",
      "  lian labor party member of the new south wales legislative council serving\n",
      "* Pat Studdy-Clift                                   0.97643\n",
      "  pat studdyclift is an australian author specialising in historical fiction and nonfictionb\n",
      "  orn in 1925 she lived in gunnedah until she was sent to a boarding\n",
      "* Alexandra Potter                                   0.97646\n",
      "  alexandra potter born 1970 is a british author of romantic comediesborn in bradford yorksh\n",
      "  ire england and educated at liverpool university gaining an honors degree in\n",
      "\n"
     ]
    }
   ],
   "source": [
    "display_single_tf_idf_cluster(right_child, map_index_to_word)"
   ]
  },
  {
   "cell_type": "markdown",
   "metadata": {},
   "source": [
    "The left cluster consists of athletes, whereas the right cluster consists of non-athletes. So far, we have a single-level hierarchy consisting of two clusters, as follows:"
   ]
  },
  {
   "cell_type": "markdown",
   "metadata": {},
   "source": [
    "```\n",
    "                                           Wikipedia\n",
    "                                               +\n",
    "                                               |\n",
    "                    +--------------------------+--------------------+\n",
    "                    |                                               |\n",
    "                    +                                               +\n",
    "                 Athletes                                      Non-athletes\n",
    "```"
   ]
  },
  {
   "cell_type": "markdown",
   "metadata": {},
   "source": [
    "Is this hierarchy good enough? **When building a hierarchy of clusters, we must keep our particular application in mind.** For instance, we might want to build a **directory** for Wikipedia articles. A good directory would let you quickly narrow down your search to a small set of related articles. The categories of athletes and non-athletes are too general to facilitate efficient search. For this reason, we decide to build another level into our hierarchy of clusters with the goal of getting more specific cluster structure at the lower level. To that end, we subdivide both the `athletes` and `non-athletes` clusters."
   ]
  },
  {
   "cell_type": "markdown",
   "metadata": {},
   "source": [
    "## Perform recursive bipartitioning"
   ]
  },
  {
   "cell_type": "markdown",
   "metadata": {},
   "source": [
    "### Cluster of athletes"
   ]
  },
  {
   "cell_type": "markdown",
   "metadata": {},
   "source": [
    "To help identify the clusters we've built so far, let's give them easy-to-read aliases:"
   ]
  },
  {
   "cell_type": "code",
   "execution_count": 14,
   "metadata": {
    "collapsed": true
   },
   "outputs": [],
   "source": [
    "athletes = left_child\n",
    "non_athletes = right_child"
   ]
  },
  {
   "cell_type": "markdown",
   "metadata": {},
   "source": [
    "Using the bipartition function, we produce two child clusters of the athlete cluster:"
   ]
  },
  {
   "cell_type": "code",
   "execution_count": 15,
   "metadata": {
    "collapsed": false
   },
   "outputs": [],
   "source": [
    "# Bipartition the cluster of athletes\n",
    "left_child_athletes, right_child_athletes = bipartition(athletes, maxiter=100, num_runs=6, seed=1)"
   ]
  },
  {
   "cell_type": "markdown",
   "metadata": {},
   "source": [
    "The left child cluster mainly consists of baseball players:"
   ]
  },
  {
   "cell_type": "code",
   "execution_count": 16,
   "metadata": {
    "collapsed": false
   },
   "outputs": [
    {
     "name": "stdout",
     "output_type": "stream",
     "text": [
      "league:0.054 season:0.043 football:0.038 played:0.035 coach:0.030 \n",
      "* Tony Smith (footballer, born 1957)                 0.94677\n",
      "  anthony tony smith born 20 february 1957 is a former footballer who played as a central de\n",
      "  fender in the football league in the 1970s and\n",
      "* Justin Knoedler                                    0.94746\n",
      "  justin joseph knoedler born july 17 1980 in springfield illinois is a former major league \n",
      "  baseball catcherknoedler was originally drafted by the st louis cardinals\n",
      "* Chris Day                                          0.94849\n",
      "  christopher nicholas chris day born 28 july 1975 is an english professional footballer who\n",
      "   plays as a goalkeeper for stevenageday started his career at tottenham\n",
      "* Todd Williams                                      0.94882\n",
      "  todd michael williams born february 13 1971 in syracuse new york is a former major league \n",
      "  baseball relief pitcher he attended east syracuseminoa high school\n",
      "* Todd Curley                                        0.95007\n",
      "  todd curley born 14 january 1973 is a former australian rules footballer who played for co\n",
      "  llingwood and the western bulldogs in the australian football league\n",
      "* Ashley Prescott                                    0.95015\n",
      "  ashley prescott born 11 september 1972 is a former australian rules footballer he played w\n",
      "  ith the richmond and fremantle football clubs in the afl between\n",
      "* Tommy Anderson (footballer)                        0.95037\n",
      "  thomas cowan tommy anderson born 24 september 1934 in haddington is a scottish former prof\n",
      "  essional footballer he played as a forward and was noted for\n",
      "* Leslie Lea                                         0.95065\n",
      "  leslie lea born 5 october 1942 in manchester is an english former professional footballer \n",
      "  he played as a midfielderlea began his professional career with blackpool\n",
      "\n"
     ]
    }
   ],
   "source": [
    "display_single_tf_idf_cluster(left_child_athletes, map_index_to_word)"
   ]
  },
  {
   "cell_type": "markdown",
   "metadata": {},
   "source": [
    "On the other hand, the right child cluster is a mix of players in association football, Austrailian rules football and ice hockey:"
   ]
  },
  {
   "cell_type": "code",
   "execution_count": 17,
   "metadata": {
    "collapsed": false
   },
   "outputs": [
    {
     "name": "stdout",
     "output_type": "stream",
     "text": [
      "championships:0.045 tour:0.043 championship:0.035 world:0.031 won:0.031 \n",
      "* Alessandra Aguilar                                 0.93880\n",
      "  alessandra aguilar born 1 july 1978 in lugo is a spanish longdistance runner who specialis\n",
      "  es in marathon running she represented her country in the event\n",
      "* Heather Samuel                                     0.93999\n",
      "  heather barbara samuel born 6 july 1970 is a retired sprinter from antigua and barbuda who\n",
      "   specialized in the 100 and 200 metres in 1990\n",
      "* Viola Kibiwot                                      0.94037\n",
      "  viola jelagat kibiwot born december 22 1983 in keiyo district is a runner from kenya who s\n",
      "  pecialises in the 1500 metres kibiwot won her first\n",
      "* Ayelech Worku                                      0.94052\n",
      "  ayelech worku born june 12 1979 is an ethiopian longdistance runner most known for winning\n",
      "   two world championships bronze medals on the 5000 metres she\n",
      "* Krisztina Papp                                     0.94105\n",
      "  krisztina papp born 17 december 1982 in eger is a hungarian long distance runner she is th\n",
      "  e national indoor record holder over 5000 mpapp began\n",
      "* Petra Lammert                                      0.94230\n",
      "  petra lammert born 3 march 1984 in freudenstadt badenwrttemberg is a former german shot pu\n",
      "  tter and current bobsledder she was the 2009 european indoor champion\n",
      "* Morhad Amdouni                                     0.94231\n",
      "  morhad amdouni born 21 january 1988 in portovecchio is a french middle and longdistance ru\n",
      "  nner he was european junior champion in track and cross country\n",
      "* Brian Davis (golfer)                               0.94378\n",
      "  brian lester davis born 2 august 1974 is an english professional golferdavis was born in l\n",
      "  ondon he turned professional in 1994 and became a member\n",
      "\n"
     ]
    }
   ],
   "source": [
    "display_single_tf_idf_cluster(right_child_athletes, map_index_to_word)"
   ]
  },
  {
   "cell_type": "markdown",
   "metadata": {},
   "source": [
    "Our hierarchy of clusters now looks like this:\n",
    "```\n",
    "                                           Wikipedia\n",
    "                                               +\n",
    "                                               |\n",
    "                    +--------------------------+--------------------+\n",
    "                    |                                               |\n",
    "                    +                                               +\n",
    "                 Athletes                                      Non-athletes\n",
    "                    +\n",
    "                    |\n",
    "        +-----------+--------+\n",
    "        |                    |\n",
    "        |            association football/\n",
    "        +          Austrailian rules football/\n",
    "     baseball             ice hockey\n",
    "```"
   ]
  },
  {
   "cell_type": "markdown",
   "metadata": {},
   "source": [
    "Should we keep subdividing the clusters? If so, which cluster should we subdivide? To answer this question, we again think about our application. Since we organize our directory by topics, it would be nice to have topics that are about as coarse as each other. For instance, if one cluster is about baseball, we expect some other clusters about football, basketball, volleyball, and so forth. That is, **we would like to achieve similar level of granularity for all clusters.**\n",
    "\n",
    "Notice that the right child cluster is more coarse than the left child cluster. The right cluster posseses a greater variety of topics than the left (ice hockey/association football/Austrialian football vs. baseball). So the right child cluster should be subdivided further to produce finer child clusters."
   ]
  },
  {
   "cell_type": "markdown",
   "metadata": {},
   "source": [
    "Let's give the clusters aliases as well:"
   ]
  },
  {
   "cell_type": "code",
   "execution_count": 18,
   "metadata": {
    "collapsed": true
   },
   "outputs": [],
   "source": [
    "baseball            = left_child_athletes\n",
    "ice_hockey_football = right_child_athletes"
   ]
  },
  {
   "cell_type": "markdown",
   "metadata": {},
   "source": [
    "### Cluster of ice hockey players and football players"
   ]
  },
  {
   "cell_type": "markdown",
   "metadata": {},
   "source": [
    "In answering the following quiz question, take a look at the topics represented in the top documents (those closest to the centroid), as well as the list of words with highest TF-IDF weights.\n",
    "\n",
    "Let us bipartition the cluster of ice hockey and football players."
   ]
  },
  {
   "cell_type": "code",
   "execution_count": 19,
   "metadata": {
    "collapsed": false
   },
   "outputs": [
    {
     "name": "stdout",
     "output_type": "stream",
     "text": [
      "championships:0.064 world:0.039 she:0.038 metres:0.038 olympics:0.037 \n",
      "* Heather Samuel                                     0.91590\n",
      "  heather barbara samuel born 6 july 1970 is a retired sprinter from antigua and barbuda who\n",
      "   specialized in the 100 and 200 metres in 1990\n",
      "* Krisztina Papp                                     0.91672\n",
      "  krisztina papp born 17 december 1982 in eger is a hungarian long distance runner she is th\n",
      "  e national indoor record holder over 5000 mpapp began\n",
      "* Ayelech Worku                                      0.91892\n",
      "  ayelech worku born june 12 1979 is an ethiopian longdistance runner most known for winning\n",
      "   two world championships bronze medals on the 5000 metres she\n",
      "* Viola Kibiwot                                      0.91906\n",
      "  viola jelagat kibiwot born december 22 1983 in keiyo district is a runner from kenya who s\n",
      "  pecialises in the 1500 metres kibiwot won her first\n",
      "* Alessandra Aguilar                                 0.91955\n",
      "  alessandra aguilar born 1 july 1978 in lugo is a spanish longdistance runner who specialis\n",
      "  es in marathon running she represented her country in the event\n",
      "* Antonina Yefremova                                 0.92054\n",
      "  antonina yefremova born 19 july 1981 is a ukrainian sprinter who specializes in the 400 me\n",
      "  tres yefremova received a twoyear ban in 2012 for using\n",
      "* Marian Burnett                                     0.92251\n",
      "  marian joan burnett born 22 february 1976 in linden is a female middledistance runner from\n",
      "   guyana who specialises in the 800 metres she competed in\n",
      "* Wang Xiuting                                       0.92377\n",
      "  wang xiuting chinese born 11 may 1965 in shandong is a chinese former longdistance runners\n",
      "  he rose to prominence with a victory in the 10000 metres\n",
      "\n",
      "tour:0.118 pga:0.089 racing:0.062 golf:0.060 championship:0.054 \n",
      "* Bob Heintz                                         0.88057\n",
      "  robert edward heintz born may 1 1970 is an american professional golfer who plays on the n\n",
      "  ationwide tourheintz was born in syosset new york he\n",
      "* Tim Conley                                         0.88274\n",
      "  tim conley born december 8 1958 is an american professional golfer who played on the pga t\n",
      "  our nationwide tour and most recently the champions tourconley\n",
      "* Bruce Zabriski                                     0.88279\n",
      "  bruce zabriski born august 3 1957 is an american professional golfer who played on the pga\n",
      "   tour european tour and the nationwide tourzabriski joined the\n",
      "* Sonny Skinner                                      0.88438\n",
      "  sonny skinner born august 18 1960 is an american professional golfer who plays on the cham\n",
      "  pions tourskinner was born in portsmouth virginia he turned professional\n",
      "* Brian Davis (golfer)                               0.88482\n",
      "  brian lester davis born 2 august 1974 is an english professional golferdavis was born in l\n",
      "  ondon he turned professional in 1994 and became a member\n",
      "* Greg Chalmers                                      0.88501\n",
      "  greg j chalmers born 11 october 1973 is an australian professional golfer who has played o\n",
      "  n both the european tour and the pga tourchalmers was\n",
      "* Todd Barranger                                     0.88552\n",
      "  todd barranger born october 19 1968 is an american professional golfer who played on the p\n",
      "  ga tour asian tour and the nationwide tourbarranger joined the\n",
      "* Dick Mast                                          0.88830\n",
      "  richard mast born march 23 1951 is an american professional golfer who has played on the p\n",
      "  ga tour nationwide tour and champions tourmast was born\n",
      "\n"
     ]
    }
   ],
   "source": [
    "left_child_ihs, right_child_ihs = bipartition(ice_hockey_football, maxiter=100, num_runs=6, seed=1)\n",
    "display_single_tf_idf_cluster(left_child_ihs, map_index_to_word)\n",
    "display_single_tf_idf_cluster(right_child_ihs, map_index_to_word)"
   ]
  },
  {
   "cell_type": "markdown",
   "metadata": {},
   "source": [
    "**Quiz Question**. Which diagram best describes the hierarchy right after splitting the `ice_hockey_football` cluster? Refer to the quiz form for the diagrams.\n",
    "> I can't do this without quiz!"
   ]
  },
  {
   "cell_type": "markdown",
   "metadata": {},
   "source": [
    "**Caution**. The granularity criteria is an imperfect heuristic and must be taken with a grain of salt. It takes a lot of manual intervention to obtain a good hierarchy of clusters.\n",
    "\n",
    "* **If a cluster is highly mixed, the top articles and words may not convey the full picture of the cluster.** Thus, we may be misled if we judge the purity of clusters solely by their top documents and words. \n",
    "* **Many interesting topics are hidden somewhere inside the clusters but do not appear in the visualization.** We may need to subdivide further to discover new topics. For instance, subdividing the `ice_hockey_football` cluster led to the appearance of runners and golfers."
   ]
  },
  {
   "cell_type": "markdown",
   "metadata": {},
   "source": [
    "### Cluster of non-athletes"
   ]
  },
  {
   "cell_type": "markdown",
   "metadata": {},
   "source": [
    "Now let us subdivide the cluster of non-athletes."
   ]
  },
  {
   "cell_type": "code",
   "execution_count": 20,
   "metadata": {
    "collapsed": false
   },
   "outputs": [],
   "source": [
    "# Bipartition the cluster of non-athletes\n",
    "left_child_non_athletes, right_child_non_athletes = bipartition(non_athletes, maxiter=100, num_runs=6, seed=1)"
   ]
  },
  {
   "cell_type": "code",
   "execution_count": 21,
   "metadata": {
    "collapsed": false
   },
   "outputs": [
    {
     "name": "stdout",
     "output_type": "stream",
     "text": [
      "university:0.016 he:0.013 she:0.013 law:0.012 served:0.012 \n",
      "* Barry Sullivan (lawyer)                            0.97227\n",
      "  barry sullivan is a chicago lawyer and as of july 1 2009 the cooney conway chair in advoca\n",
      "  cy at loyola university chicago school of law\n",
      "* Kayee Griffin                                      0.97444\n",
      "  kayee frances griffin born 6 february 1950 is an australian politician and former australi\n",
      "  an labor party member of the new south wales legislative council serving\n",
      "* Christine Robertson                                0.97450\n",
      "  christine mary robertson born 5 october 1948 is an australian politician and former austra\n",
      "  lian labor party member of the new south wales legislative council serving\n",
      "* James A. Joseph                                    0.97464\n",
      "  james a joseph born 1935 is an american former diplomatjoseph is professor of the practice\n",
      "   of public policy studies at duke university and founder of\n",
      "* David Anderson (British Columbia politician)       0.97492\n",
      "  david a anderson pc oc born august 16 1937 in victoria british columbia is a former canadi\n",
      "  an cabinet minister educated at victoria college in victoria\n",
      "* Mary Ellen Coster Williams                         0.97594\n",
      "  mary ellen coster williams born april 3 1953 is a judge of the united states court of fede\n",
      "  ral claims appointed to that court in 2003\n",
      "* Sven Erik Holmes                                   0.97600\n",
      "  sven erik holmes is a former federal judge and currently the vice chairman legal risk and \n",
      "  regulatory and chief legal officer for kpmg llp a\n",
      "* Andrew Fois                                        0.97652\n",
      "  andrew fois is an attorney living and working in washington dc as of april 9 2012 he will \n",
      "  be serving as the deputy attorney general\n",
      "\n"
     ]
    }
   ],
   "source": [
    "display_single_tf_idf_cluster(left_child_non_athletes, map_index_to_word)"
   ]
  },
  {
   "cell_type": "code",
   "execution_count": 22,
   "metadata": {
    "collapsed": false
   },
   "outputs": [
    {
     "name": "stdout",
     "output_type": "stream",
     "text": [
      "she:0.039 her:0.030 music:0.023 film:0.021 album:0.015 \n",
      "* Madonna (entertainer)                              0.96092\n",
      "  madonna louise ciccone tkoni born august 16 1958 is an american singer songwriter actress \n",
      "  and businesswoman she achieved popularity by pushing the boundaries of lyrical\n",
      "* Janet Jackson                                      0.96153\n",
      "  janet damita jo jackson born may 16 1966 is an american singer songwriter and actress know\n",
      "  n for a series of sonically innovative socially conscious and\n",
      "* Cher                                               0.96540\n",
      "  cher r born cherilyn sarkisian may 20 1946 is an american singer actress and television ho\n",
      "  st described as embodying female autonomy in a maledominated industry\n",
      "* Laura Smith                                        0.96600\n",
      "  laura smith is a canadian folk singersongwriter she is best known for her 1995 single shad\n",
      "  e of your love one of the years biggest hits\n",
      "* Natashia Williams                                  0.96677\n",
      "  natashia williamsblach born august 2 1978 is an american actress and former wonderbra camp\n",
      "  aign model who is perhaps best known for her role as shane\n",
      "* Anita Kunz                                         0.96716\n",
      "  anita e kunz oc born 1956 is a canadianborn artist and illustratorkunz has lived in london\n",
      "   new york and toronto contributing to magazines and working\n",
      "* Maggie Smith                                       0.96747\n",
      "  dame margaret natalie maggie smith ch dbe born 28 december 1934 is an english actress she \n",
      "  made her stage debut in 1952 and has had\n",
      "* Lizzie West                                        0.96752\n",
      "  lizzie west born in brooklyn ny on july 21 1973 is a singersongwriter her music can be des\n",
      "  cribed as a blend of many genres including\n",
      "\n"
     ]
    }
   ],
   "source": [
    "display_single_tf_idf_cluster(right_child_non_athletes, map_index_to_word)"
   ]
  },
  {
   "cell_type": "markdown",
   "metadata": {},
   "source": [
    "Neither of the clusters show clear topics, apart from the genders. Let us divide them further."
   ]
  },
  {
   "cell_type": "code",
   "execution_count": 23,
   "metadata": {
    "collapsed": true
   },
   "outputs": [],
   "source": [
    "male_non_athletes = left_child_non_athletes\n",
    "female_non_athletes = right_child_non_athletes"
   ]
  },
  {
   "cell_type": "markdown",
   "metadata": {},
   "source": [
    "**Quiz Question**. Let us bipartition the clusters `male_non_athletes` and `female_non_athletes`. Which diagram best describes the resulting hierarchy of clusters for the non-athletes? Refer to the quiz for the diagrams.\n",
    "\n",
    "**Note**. Use `maxiter=100, num_runs=6, seed=1` for consistency of output.\n",
    "\n",
    "> I can't do this without quiz!"
   ]
  },
  {
   "cell_type": "code",
   "execution_count": null,
   "metadata": {
    "collapsed": false
   },
   "outputs": [],
   "source": []
  }
 ],
 "metadata": {
  "kernelspec": {
   "display_name": "Python(gl-env)",
   "language": "python",
   "name": "gl-env"
  },
  "language_info": {
   "codemirror_mode": {
    "name": "ipython",
    "version": 2
   },
   "file_extension": ".py",
   "mimetype": "text/x-python",
   "name": "python",
   "nbconvert_exporter": "python",
   "pygments_lexer": "ipython2",
   "version": "2.7.13"
  }
 },
 "nbformat": 4,
 "nbformat_minor": 0
}
